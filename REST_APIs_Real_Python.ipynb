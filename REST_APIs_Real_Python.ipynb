{
 "cells": [
  {
   "cell_type": "markdown",
   "id": "207c3bf0",
   "metadata": {},
   "source": [
    "# GET"
   ]
  },
  {
   "cell_type": "markdown",
   "id": "cc89402a",
   "metadata": {},
   "source": [
    "GET is one of the most common HTTP methods you’ll use when working with REST APIs. This method allows you to retrieve resources from a given API. GET is a read-only operation, so you shouldn’t use it to modify an existing resource.\n",
    "\n",
    "To test out GET and the other methods in this section, you’ll use a service called JSONPlaceholder. This free service provides fake API endpoints that send back responses that requests can process.\n",
    "\n",
    "To try this out, start up the Python REPL and run the following commands to send a GET request to a JSONPlaceholder endpoint:"
   ]
  },
  {
   "cell_type": "code",
   "execution_count": 1,
   "id": "23270e8a",
   "metadata": {},
   "outputs": [],
   "source": [
    "import requests"
   ]
  },
  {
   "cell_type": "code",
   "execution_count": 2,
   "id": "1a5f3baa",
   "metadata": {},
   "outputs": [],
   "source": [
    "api_url = \"https://jsonplaceholder.typicode.com/todos/1\""
   ]
  },
  {
   "cell_type": "code",
   "execution_count": 3,
   "id": "2ac74f72",
   "metadata": {},
   "outputs": [],
   "source": [
    "response = requests.get(api_url)"
   ]
  },
  {
   "cell_type": "code",
   "execution_count": 4,
   "id": "66d0d337",
   "metadata": {},
   "outputs": [
    {
     "data": {
      "text/plain": [
       "{'userId': 1, 'id': 1, 'title': 'delectus aut autem', 'completed': False}"
      ]
     },
     "execution_count": 4,
     "metadata": {},
     "output_type": "execute_result"
    }
   ],
   "source": [
    "response.json()"
   ]
  },
  {
   "cell_type": "markdown",
   "id": "a58e16a4",
   "metadata": {},
   "source": [
    "This code calls requests.get() to send a GET request to /todos/1, which responds with the todo item with the ID 1. Then you can call .json() on the response object to view the data that came back from the API.\n",
    "\n",
    "The response data is formatted as JSON, a key-value store similar to a Python dictionary. It’s a very popular data format and the de facto interchange format for most REST APIs."
   ]
  },
  {
   "cell_type": "code",
   "execution_count": 5,
   "id": "9804770d",
   "metadata": {},
   "outputs": [
    {
     "data": {
      "text/plain": [
       "200"
      ]
     },
     "execution_count": 5,
     "metadata": {},
     "output_type": "execute_result"
    }
   ],
   "source": [
    "response.status_code"
   ]
  },
  {
   "cell_type": "code",
   "execution_count": 6,
   "id": "15b4d815",
   "metadata": {},
   "outputs": [
    {
     "data": {
      "text/plain": [
       "'application/json; charset=utf-8'"
      ]
     },
     "execution_count": 6,
     "metadata": {},
     "output_type": "execute_result"
    }
   ],
   "source": [
    "response.headers[\"Content-Type\"]"
   ]
  },
  {
   "cell_type": "markdown",
   "id": "184b4567",
   "metadata": {},
   "source": [
    "Here, you access response.status_code to see the HTTP status code. You can also view the response’s HTTP headers with response.headers. This dictionary contains metadata about the response, such as the Content-Type of the response."
   ]
  },
  {
   "cell_type": "markdown",
   "id": "79e60822",
   "metadata": {},
   "source": [
    "# POST"
   ]
  },
  {
   "cell_type": "markdown",
   "id": "b7c047cd",
   "metadata": {},
   "source": [
    "Now, take a look at how you use requests to POST data to a REST API to create a new resource. You’ll use JSONPlaceholder again, but this time you’ll include JSON data in the request. Here’s the data that you’ll send:"
   ]
  },
  {
   "cell_type": "code",
   "execution_count": 7,
   "id": "ad4a3648",
   "metadata": {},
   "outputs": [],
   "source": [
    "api_url = \"https://jsonplaceholder.typicode.com/todos\""
   ]
  },
  {
   "cell_type": "code",
   "execution_count": 8,
   "id": "18fe2289",
   "metadata": {},
   "outputs": [],
   "source": [
    "todo = {\"userId\": 1, \"title\": \"Buy milk\", \"completed\": False}"
   ]
  },
  {
   "cell_type": "code",
   "execution_count": 9,
   "id": "a67ee949",
   "metadata": {},
   "outputs": [],
   "source": [
    "response = requests.post(api_url, json=todo)"
   ]
  },
  {
   "cell_type": "code",
   "execution_count": 10,
   "id": "fb2e32fe",
   "metadata": {},
   "outputs": [
    {
     "data": {
      "text/plain": [
       "{'userId': 1, 'title': 'Buy milk', 'completed': False, 'id': 201}"
      ]
     },
     "execution_count": 10,
     "metadata": {},
     "output_type": "execute_result"
    }
   ],
   "source": [
    "response.json()"
   ]
  },
  {
   "cell_type": "code",
   "execution_count": 11,
   "id": "62d04284",
   "metadata": {},
   "outputs": [
    {
     "data": {
      "text/plain": [
       "201"
      ]
     },
     "execution_count": 11,
     "metadata": {},
     "output_type": "execute_result"
    }
   ],
   "source": [
    "response.status_code"
   ]
  },
  {
   "cell_type": "markdown",
   "id": "a5cd2a5e",
   "metadata": {},
   "source": [
    "If you don’t use the json keyword argument to supply the JSON data, then you need to set Content-Type accordingly and serialize the JSON manually. Here’s an equivalent version to the previous code:"
   ]
  },
  {
   "cell_type": "code",
   "execution_count": 12,
   "id": "b248bb64",
   "metadata": {},
   "outputs": [
    {
     "data": {
      "text/plain": [
       "{'userId': 1, 'title': 'Buy milk', 'completed': False, 'id': 201}"
      ]
     },
     "execution_count": 12,
     "metadata": {},
     "output_type": "execute_result"
    }
   ],
   "source": [
    "import requests\n",
    "import json\n",
    "api_url = \"https://jsonplaceholder.typicode.com/todos\"\n",
    "todo = {\"userId\": 1, \"title\": \"Buy milk\", \"completed\": False}\n",
    "headers =  {\"Content-Type\":\"application/json\"}\n",
    "response = requests.post(api_url, data=json.dumps(todo), headers=headers)\n",
    "response.json()"
   ]
  },
  {
   "cell_type": "code",
   "execution_count": 13,
   "id": "8dd58751",
   "metadata": {},
   "outputs": [
    {
     "data": {
      "text/plain": [
       "201"
      ]
     },
     "execution_count": 13,
     "metadata": {},
     "output_type": "execute_result"
    }
   ],
   "source": [
    "response.status_code"
   ]
  },
  {
   "cell_type": "markdown",
   "id": "20519ec2",
   "metadata": {},
   "source": [
    "Note: json.dumps() comes from the json package in the standard library. This package provides useful methods for working with JSON in Python."
   ]
  },
  {
   "cell_type": "markdown",
   "id": "d3620a7b",
   "metadata": {},
   "source": [
    "# PUT"
   ]
  },
  {
   "cell_type": "markdown",
   "id": "39f473db",
   "metadata": {},
   "source": [
    "Beyond GET and POST, requests provides support for all the other HTTP methods you would use with a REST API. The following code sends a PUT request to update an existing todo with new data. Any data sent with a PUT request will completely replace the existing values of the todo.\n",
    "\n",
    "You’ll use the same JSONPlaceholder endpoint you used with GET and POST, but this time you’ll append 10 to the end of the URL. This tells the REST API which todo you’d like to update:"
   ]
  },
  {
   "cell_type": "code",
   "execution_count": 14,
   "id": "d7427c0d",
   "metadata": {},
   "outputs": [],
   "source": [
    "import requests"
   ]
  },
  {
   "cell_type": "code",
   "execution_count": 15,
   "id": "8032bb31",
   "metadata": {},
   "outputs": [],
   "source": [
    "api_url = \"https://jsonplaceholder.typicode.com/todos/10\""
   ]
  },
  {
   "cell_type": "code",
   "execution_count": 16,
   "id": "eb973873",
   "metadata": {},
   "outputs": [],
   "source": [
    "response = requests.get(api_url)"
   ]
  },
  {
   "cell_type": "code",
   "execution_count": 17,
   "id": "43d286d3",
   "metadata": {},
   "outputs": [
    {
     "data": {
      "text/plain": [
       "{'userId': 1,\n",
       " 'id': 10,\n",
       " 'title': 'illo est ratione doloremque quia maiores aut',\n",
       " 'completed': True}"
      ]
     },
     "execution_count": 17,
     "metadata": {},
     "output_type": "execute_result"
    }
   ],
   "source": [
    "response.json()"
   ]
  },
  {
   "cell_type": "code",
   "execution_count": 18,
   "id": "80d0ef75",
   "metadata": {},
   "outputs": [],
   "source": [
    "todo = {\"userId\": 2, \"title\": \"Wash car\", \"completed\": True}"
   ]
  },
  {
   "cell_type": "code",
   "execution_count": 19,
   "id": "f1f92488",
   "metadata": {},
   "outputs": [],
   "source": [
    "response = requests.put(api_url, json=todo)"
   ]
  },
  {
   "cell_type": "code",
   "execution_count": 20,
   "id": "3c29338e",
   "metadata": {},
   "outputs": [
    {
     "data": {
      "text/plain": [
       "{'userId': 2, 'title': 'Wash car', 'completed': True, 'id': 10}"
      ]
     },
     "execution_count": 20,
     "metadata": {},
     "output_type": "execute_result"
    }
   ],
   "source": [
    "response.json()"
   ]
  },
  {
   "cell_type": "code",
   "execution_count": 21,
   "id": "a3199b2d",
   "metadata": {},
   "outputs": [
    {
     "data": {
      "text/plain": [
       "200"
      ]
     },
     "execution_count": 21,
     "metadata": {},
     "output_type": "execute_result"
    }
   ],
   "source": [
    "response.status_code"
   ]
  },
  {
   "cell_type": "markdown",
   "id": "0fdb96ea",
   "metadata": {},
   "source": [
    "Here, you first call requests.get() to view the contents of the existing todo. Next, you call requests.put() with new JSON data to replace the existing to-do’s values. You can see the new values when you call response.json(). Successful PUT requests will always return 200 instead of 201 because you aren’t creating a new resource but just updating an existing one."
   ]
  },
  {
   "cell_type": "markdown",
   "id": "d07ffcce",
   "metadata": {},
   "source": [
    "### Status Codes\n",
    "\n",
    "<table class=\"table table-hover\">\n",
    "<thead>\n",
    "<tr>\n",
    "<th>Code</th>\n",
    "<th>Meaning</th>\n",
    "<th>Description</th>\n",
    "</tr>\n",
    "</thead>\n",
    "<tbody>\n",
    "<tr>\n",
    "<td><code>200</code></td>\n",
    "<td>OK</td>\n",
    "<td>The requested action was successful.</td>\n",
    "</tr>\n",
    "<tr>\n",
    "<td><code>201</code></td>\n",
    "<td>Created</td>\n",
    "<td>A new resource was created.</td>\n",
    "</tr>\n",
    "<tr>\n",
    "<td><code>202</code></td>\n",
    "<td>Accepted</td>\n",
    "<td>The request was received, but no modification has been made yet.</td>\n",
    "</tr>\n",
    "<tr>\n",
    "<td><code>204</code></td>\n",
    "<td>No Content</td>\n",
    "<td>The request was successful, but the response has no content.</td>\n",
    "</tr>\n",
    "<tr>\n",
    "<td><code>400</code></td>\n",
    "<td>Bad Request</td>\n",
    "<td>The request was malformed.</td>\n",
    "</tr>\n",
    "<tr>\n",
    "<td><code>401</code></td>\n",
    "<td>Unauthorized</td>\n",
    "<td>The client is not authorized to perform the requested action.</td>\n",
    "</tr>\n",
    "<tr>\n",
    "<td><code>404</code></td>\n",
    "<td>Not Found</td>\n",
    "<td>The requested resource was not found.</td>\n",
    "</tr>\n",
    "<tr>\n",
    "<td><code>415</code></td>\n",
    "<td>Unsupported Media Type</td>\n",
    "<td>The request data format is not supported by the server.</td>\n",
    "</tr>\n",
    "<tr>\n",
    "<td><code>422</code></td>\n",
    "<td>Unprocessable Entity</td>\n",
    "<td>The request data was properly formatted but contained invalid or missing data.</td>\n",
    "</tr>\n",
    "<tr>\n",
    "<td><code>500</code></td>\n",
    "<td>Internal Server Error</td>\n",
    "<td>The server threw an error when processing the request.</td>\n",
    "</tr>\n",
    "</tbody>\n",
    "</table>"
   ]
  },
  {
   "cell_type": "markdown",
   "id": "a6ce1e36",
   "metadata": {},
   "source": [
    "# PATCH"
   ]
  },
  {
   "cell_type": "markdown",
   "id": "f6af97a2",
   "metadata": {},
   "source": [
    "Next up, you’ll use requests.patch() to modify the value of a specific field on an existing todo. PATCH differs from PUT in that it doesn’t completely replace the existing resource. It only modifies the values set in the JSON sent with the request.\n",
    "\n",
    "You’ll use the same todo from the last example to try out requests.patch(). Here are the current values:"
   ]
  },
  {
   "cell_type": "code",
   "execution_count": 22,
   "id": "d352138b",
   "metadata": {},
   "outputs": [],
   "source": [
    "import requests"
   ]
  },
  {
   "cell_type": "code",
   "execution_count": 23,
   "id": "04ef37a7",
   "metadata": {},
   "outputs": [],
   "source": [
    "api_url = \"https://jsonplaceholder.typicode.com/todos/10\""
   ]
  },
  {
   "cell_type": "code",
   "execution_count": 24,
   "id": "b675c241",
   "metadata": {},
   "outputs": [],
   "source": [
    "todo = {\"title\": \"Mow lawn\"}"
   ]
  },
  {
   "cell_type": "code",
   "execution_count": 25,
   "id": "41bb103b",
   "metadata": {},
   "outputs": [],
   "source": [
    "response = requests.patch(api_url, json=todo)"
   ]
  },
  {
   "cell_type": "code",
   "execution_count": 26,
   "id": "a2038a54",
   "metadata": {},
   "outputs": [
    {
     "data": {
      "text/plain": [
       "{'userId': 1, 'id': 10, 'title': 'Mow lawn', 'completed': True}"
      ]
     },
     "execution_count": 26,
     "metadata": {},
     "output_type": "execute_result"
    }
   ],
   "source": [
    "response.json()"
   ]
  },
  {
   "cell_type": "code",
   "execution_count": 27,
   "id": "5abb7d46",
   "metadata": {},
   "outputs": [
    {
     "data": {
      "text/plain": [
       "200"
      ]
     },
     "execution_count": 27,
     "metadata": {},
     "output_type": "execute_result"
    }
   ],
   "source": [
    "response.status_code"
   ]
  },
  {
   "cell_type": "markdown",
   "id": "855a0603",
   "metadata": {},
   "source": [
    "When you call response.json(), you can see that title was updated to Mow lawn."
   ]
  },
  {
   "cell_type": "markdown",
   "id": "66c2e61a",
   "metadata": {},
   "source": [
    "# DELETE"
   ]
  },
  {
   "cell_type": "markdown",
   "id": "f3f35ea6",
   "metadata": {},
   "source": [
    "Last but not least, if you want to completely remove a resource, then you use DELETE. Here’s the code to remove a todo:"
   ]
  },
  {
   "cell_type": "code",
   "execution_count": 28,
   "id": "458b3ee4",
   "metadata": {},
   "outputs": [],
   "source": [
    "import requests"
   ]
  },
  {
   "cell_type": "code",
   "execution_count": 29,
   "id": "54744452",
   "metadata": {},
   "outputs": [],
   "source": [
    "api_url = \"https://jsonplaceholder.typicode.com/todos/10\""
   ]
  },
  {
   "cell_type": "code",
   "execution_count": 30,
   "id": "d062e9bb",
   "metadata": {},
   "outputs": [],
   "source": [
    "response = requests.delete(api_url)"
   ]
  },
  {
   "cell_type": "code",
   "execution_count": 31,
   "id": "c9f78ae8",
   "metadata": {},
   "outputs": [
    {
     "data": {
      "text/plain": [
       "{}"
      ]
     },
     "execution_count": 31,
     "metadata": {},
     "output_type": "execute_result"
    }
   ],
   "source": [
    "response.json()"
   ]
  },
  {
   "cell_type": "code",
   "execution_count": 32,
   "id": "700431f9",
   "metadata": {},
   "outputs": [
    {
     "data": {
      "text/plain": [
       "200"
      ]
     },
     "execution_count": 32,
     "metadata": {},
     "output_type": "execute_result"
    }
   ],
   "source": [
    "response.status_code"
   ]
  },
  {
   "cell_type": "markdown",
   "id": "caebe8d1",
   "metadata": {},
   "source": [
    "You call requests.delete() with an API URL that contains the ID for the todo you would like to remove. This sends a DELETE request to the REST API, which then removes the matching resource. After deleting the resource, the API sends back an empty JSON object indicating that the resource has been deleted.\n",
    "\n",
    "The requests library is an awesome tool for working with REST APIs and an indispensable part of your Python tool belt. In the next section, you’ll change gears and consider what it takes to build a REST API."
   ]
  },
  {
   "cell_type": "code",
   "execution_count": null,
   "id": "d5b9c64c",
   "metadata": {},
   "outputs": [],
   "source": []
  },
  {
   "cell_type": "code",
   "execution_count": null,
   "id": "f6ea9816",
   "metadata": {},
   "outputs": [],
   "source": []
  }
 ],
 "metadata": {
  "kernelspec": {
   "display_name": "Python 3",
   "language": "python",
   "name": "python3"
  },
  "language_info": {
   "codemirror_mode": {
    "name": "ipython",
    "version": 3
   },
   "file_extension": ".py",
   "mimetype": "text/x-python",
   "name": "python",
   "nbconvert_exporter": "python",
   "pygments_lexer": "ipython3",
   "version": "3.7.11"
  }
 },
 "nbformat": 4,
 "nbformat_minor": 5
}
